{
  "nbformat": 4,
  "nbformat_minor": 0,
  "metadata": {
    "colab": {
      "provenance": []
    },
    "kernelspec": {
      "name": "python3",
      "display_name": "Python 3"
    },
    "language_info": {
      "name": "python"
    }
  },
  "cells": [
    {
      "cell_type": "code",
      "execution_count": null,
      "metadata": {
        "id": "WZhu2ZMck71I"
      },
      "outputs": [],
      "source": [
        "import numpy as np\n",
        "from scipy.optimize import curve_fit\n",
        "import pandas as pd\n",
        "import matplotlib.pyplot as plt\n",
        "from scipy.stats import t\n",
        "\n",
        "D = 0.0060  # m, tube diameter\n",
        "rho = 1.2  # kg/m^3, air density\n",
        "mu = 1.83e-5  # Pa s, air viscosity\n",
        "rhow = 1000  # kg/m^3, water density\n",
        "g = 9.8  # m/s^2, gravitational acceleration\n",
        "\n",
        "#######################INPUT VALUES HERE###############################\n",
        "v = np.array([9.82, ])  # INPUT VELOCITY in m/s\n",
        "dh = np.array([0.0198, ])  # INPUT HEIGHT DIFFERENCE in m\n",
        "error_in_v =   # INPUT ERROR IN VELOCITY in %\n",
        "error_in_dh =   # INPUT ERROR IN HEIGHT DIFFERENCE in %\n",
        "#######################################################################\n",
        "\n",
        "Re = v * D * rho / mu\n",
        "P = rhow * g * dh\n",
        "fexpt = P / (2 * rho * v**2 * (0.50 / D))\n",
        "\n",
        "def calculate_error_bounds(v, dh):\n",
        "    v_lower = v * (1-error_in_v/100)\n",
        "    v_upper = v * (1+error_in_v/100)\n",
        "    dh_lower = dh * (1-error_in_dh/100)\n",
        "    dh_upper = dh * (1+error_in_dh/100)\n",
        "\n",
        "    Re_lower = v_lower * D * rho / mu\n",
        "    Re_upper = v_upper * D * rho / mu\n",
        "\n",
        "    P_lower = rhow * g * dh_lower\n",
        "    P_upper = rhow * g * dh_upper\n",
        "\n",
        "    f_lower = P_lower / (2 * rho * v_upper**2 * (0.50 / D))\n",
        "    f_upper = P_upper / (2 * rho * v_lower**2 * (0.50 / D))\n",
        "\n",
        "    return Re_lower, Re_upper, f_lower, f_upper\n",
        "\n",
        "Re_lower, Re_upper, f_lower, f_upper = calculate_error_bounds(v, dh)\n",
        "\n",
        "f_theory = lambda Re: 0.0791 * Re**(-0.25)\n",
        "\n",
        "def f_model(Re, C1, C2):\n",
        "    return C1 * Re**C2\n",
        "\n",
        "initial_guess = [0.08, -0.25]\n",
        "params, covariance = curve_fit(f_model, Re, fexpt, p0=initial_guess)\n",
        "C1, C2 = params\n",
        "errors = np.sqrt(np.diag(covariance))\n",
        "C1_error, C2_error = errors\n",
        "\n",
        "# Monte Carlo simulation\n",
        "def monte_carlo_analysis(v, dh, num_simulations=1000):\n",
        "    np.random.seed(42)\n",
        "\n",
        "    synthetic_C1 = []\n",
        "    synthetic_C2 = []\n",
        "\n",
        "    for _ in range(num_simulations):\n",
        "        v_simulated = v + np.random.normal(0, error_in_v/100 * v, size=len(v))\n",
        "        dh_simulated = dh + np.random.normal(0, error_in_dh/100 * dh, size=len(dh))\n",
        "\n",
        "        Re_simulated = v_simulated * D * rho / mu\n",
        "        P_simulated = rhow * g * dh_simulated\n",
        "        f_simulated = P_simulated / (2 * rho * v_simulated**2 * (0.50 / D))\n",
        "\n",
        "        try:\n",
        "            params_simulated, _ = curve_fit(f_model, Re_simulated, f_simulated, p0=initial_guess)\n",
        "            synthetic_C1.append(params_simulated[0])\n",
        "            synthetic_C2.append(params_simulated[1])\n",
        "        except:\n",
        "            continue\n",
        "\n",
        "    return np.array(synthetic_C1), np.array(synthetic_C2)\n",
        "\n",
        "synthetic_C1, synthetic_C2 = monte_carlo_analysis(v, dh)\n",
        "\n",
        "C1_lower = np.percentile(synthetic_C1, 2.5)\n",
        "C1_upper = np.percentile(synthetic_C1, 97.5)\n",
        "C2_lower = np.percentile(synthetic_C2, 2.5)\n",
        "C2_upper = np.percentile(synthetic_C2, 97.5)\n",
        "\n",
        "params_summary = pd.DataFrame({\n",
        "    \"Parameter\": [\"C1\", \"C2\"],\n",
        "    \"Value\": [round(C1, 4), round(C2, 3)],\n",
        "    \"95% CI Lower\": [round(C1_lower, 3), round(C2_lower, 3)],\n",
        "    \"95% CI Upper\": [round(C1_upper, 3), round(C2_upper, 3)]\n",
        "})\n",
        "\n",
        "plt.figure(figsize=(5, 5))\n",
        "plt.errorbar(Re, fexpt, xerr=[Re - Re_lower, Re_upper - Re], yerr=[fexpt - f_lower, f_upper - fexpt], fmt='o', markersize=8, color='tab:blue', alpha=1, capsize=3)\n",
        "plt.plot(Re, f_model(Re, C1, C2), color='tab:blue', linestyle='-', label='Best-fit model $f = C_1 \\mathrm{Re}^{C_2}$')\n",
        "plt.plot(Re, f_theory(Re), color='tab:orange', linestyle='--', label='$f_\\mathrm{theory} = 0.0791 \\mathrm{Re}^{-0.25}$')\n",
        "\n",
        "plt.title('Analysis of friction factor for turbulent air flow in a plastic tube', pad=20)\n",
        "plt.xlabel('Reynolds number (Re)')\n",
        "plt.ylabel('Friction factor ($f$)')\n",
        "plt.ylim(0.0, 0.02)\n",
        "plt.xlim(0, 10000)\n",
        "plt.yticks(np.arange(0.0, 0.021, 0.005))\n",
        "plt.minorticks_on()\n",
        "plt.grid(True, which='both', linestyle='--', linewidth=0.5)\n",
        "plt.grid(True, which='minor', linestyle=':', linewidth=0.5)\n",
        "plt.legend()\n",
        "plt.tight_layout()\n",
        "plt.savefig(\"friction_factor_plot.png\", dpi=300)\n",
        "plt.show()\n",
        "\n",
        "plt.figure(figsize=(10, 6))\n",
        "\n",
        "plt.subplot(1, 2, 1)\n",
        "plt.hist(synthetic_C1, bins=30, color='tab:olive', alpha=0.7, edgecolor='black')\n",
        "plt.axvline(C1, color='red', linestyle='--', label=f'Best-fit $C_1 = {C1:.4f}$')\n",
        "plt.title('Distribution of $C_1$')\n",
        "plt.xlabel('$C_1$')\n",
        "plt.ylabel('Frequency')\n",
        "plt.legend()\n",
        "\n",
        "plt.subplot(1, 2, 2)\n",
        "plt.hist(synthetic_C2, bins=30, color='tab:cyan', alpha=0.7, edgecolor='black')\n",
        "plt.axvline(C2, color='red', linestyle='--', label=f'Best-fit $C_2 = {C2:.3f}$')\n",
        "plt.title('Distribution of $C_2$')\n",
        "plt.xlabel('$C_2$')\n",
        "plt.ylabel('Frequency')\n",
        "plt.legend()\n",
        "\n",
        "plt.tight_layout()\n",
        "plt.show()\n",
        "\n",
        "params_summary"
      ]
    },
    {
      "cell_type": "code",
      "source": [
        "# from google.colab import files\n",
        "# files.download(\"friction_factor_vs_reynolds.png\")\n",
        "# files.download(\"distribution_C1.png\")\n",
        "# files.download(\"distribution_C2.png\")"
      ],
      "metadata": {
        "colab": {
          "base_uri": "https://localhost:8080/",
          "height": 17
        },
        "id": "-mhZyTvuDSVk",
        "outputId": "ab6e4ca1-68f0-4ad4-e3b1-d082a3c16775"
      },
      "execution_count": null,
      "outputs": [
        {
          "output_type": "display_data",
          "data": {
            "text/plain": [
              "<IPython.core.display.Javascript object>"
            ],
            "application/javascript": [
              "\n",
              "    async function download(id, filename, size) {\n",
              "      if (!google.colab.kernel.accessAllowed) {\n",
              "        return;\n",
              "      }\n",
              "      const div = document.createElement('div');\n",
              "      const label = document.createElement('label');\n",
              "      label.textContent = `Downloading \"${filename}\": `;\n",
              "      div.appendChild(label);\n",
              "      const progress = document.createElement('progress');\n",
              "      progress.max = size;\n",
              "      div.appendChild(progress);\n",
              "      document.body.appendChild(div);\n",
              "\n",
              "      const buffers = [];\n",
              "      let downloaded = 0;\n",
              "\n",
              "      const channel = await google.colab.kernel.comms.open(id);\n",
              "      // Send a message to notify the kernel that we're ready.\n",
              "      channel.send({})\n",
              "\n",
              "      for await (const message of channel.messages) {\n",
              "        // Send a message to notify the kernel that we're ready.\n",
              "        channel.send({})\n",
              "        if (message.buffers) {\n",
              "          for (const buffer of message.buffers) {\n",
              "            buffers.push(buffer);\n",
              "            downloaded += buffer.byteLength;\n",
              "            progress.value = downloaded;\n",
              "          }\n",
              "        }\n",
              "      }\n",
              "      const blob = new Blob(buffers, {type: 'application/binary'});\n",
              "      const a = document.createElement('a');\n",
              "      a.href = window.URL.createObjectURL(blob);\n",
              "      a.download = filename;\n",
              "      div.appendChild(a);\n",
              "      a.click();\n",
              "      div.remove();\n",
              "    }\n",
              "  "
            ]
          },
          "metadata": {}
        },
        {
          "output_type": "display_data",
          "data": {
            "text/plain": [
              "<IPython.core.display.Javascript object>"
            ],
            "application/javascript": [
              "download(\"download_62423fe4-3e4c-4f02-890c-2199bcdb892b\", \"friction_factor_vs_reynolds.png\", 203302)"
            ]
          },
          "metadata": {}
        },
        {
          "output_type": "display_data",
          "data": {
            "text/plain": [
              "<IPython.core.display.Javascript object>"
            ],
            "application/javascript": [
              "\n",
              "    async function download(id, filename, size) {\n",
              "      if (!google.colab.kernel.accessAllowed) {\n",
              "        return;\n",
              "      }\n",
              "      const div = document.createElement('div');\n",
              "      const label = document.createElement('label');\n",
              "      label.textContent = `Downloading \"${filename}\": `;\n",
              "      div.appendChild(label);\n",
              "      const progress = document.createElement('progress');\n",
              "      progress.max = size;\n",
              "      div.appendChild(progress);\n",
              "      document.body.appendChild(div);\n",
              "\n",
              "      const buffers = [];\n",
              "      let downloaded = 0;\n",
              "\n",
              "      const channel = await google.colab.kernel.comms.open(id);\n",
              "      // Send a message to notify the kernel that we're ready.\n",
              "      channel.send({})\n",
              "\n",
              "      for await (const message of channel.messages) {\n",
              "        // Send a message to notify the kernel that we're ready.\n",
              "        channel.send({})\n",
              "        if (message.buffers) {\n",
              "          for (const buffer of message.buffers) {\n",
              "            buffers.push(buffer);\n",
              "            downloaded += buffer.byteLength;\n",
              "            progress.value = downloaded;\n",
              "          }\n",
              "        }\n",
              "      }\n",
              "      const blob = new Blob(buffers, {type: 'application/binary'});\n",
              "      const a = document.createElement('a');\n",
              "      a.href = window.URL.createObjectURL(blob);\n",
              "      a.download = filename;\n",
              "      div.appendChild(a);\n",
              "      a.click();\n",
              "      div.remove();\n",
              "    }\n",
              "  "
            ]
          },
          "metadata": {}
        },
        {
          "output_type": "display_data",
          "data": {
            "text/plain": [
              "<IPython.core.display.Javascript object>"
            ],
            "application/javascript": [
              "download(\"download_1762b4f1-df87-4b42-b176-a39947fbe1b8\", \"distribution_C1.png\", 59887)"
            ]
          },
          "metadata": {}
        },
        {
          "output_type": "display_data",
          "data": {
            "text/plain": [
              "<IPython.core.display.Javascript object>"
            ],
            "application/javascript": [
              "\n",
              "    async function download(id, filename, size) {\n",
              "      if (!google.colab.kernel.accessAllowed) {\n",
              "        return;\n",
              "      }\n",
              "      const div = document.createElement('div');\n",
              "      const label = document.createElement('label');\n",
              "      label.textContent = `Downloading \"${filename}\": `;\n",
              "      div.appendChild(label);\n",
              "      const progress = document.createElement('progress');\n",
              "      progress.max = size;\n",
              "      div.appendChild(progress);\n",
              "      document.body.appendChild(div);\n",
              "\n",
              "      const buffers = [];\n",
              "      let downloaded = 0;\n",
              "\n",
              "      const channel = await google.colab.kernel.comms.open(id);\n",
              "      // Send a message to notify the kernel that we're ready.\n",
              "      channel.send({})\n",
              "\n",
              "      for await (const message of channel.messages) {\n",
              "        // Send a message to notify the kernel that we're ready.\n",
              "        channel.send({})\n",
              "        if (message.buffers) {\n",
              "          for (const buffer of message.buffers) {\n",
              "            buffers.push(buffer);\n",
              "            downloaded += buffer.byteLength;\n",
              "            progress.value = downloaded;\n",
              "          }\n",
              "        }\n",
              "      }\n",
              "      const blob = new Blob(buffers, {type: 'application/binary'});\n",
              "      const a = document.createElement('a');\n",
              "      a.href = window.URL.createObjectURL(blob);\n",
              "      a.download = filename;\n",
              "      div.appendChild(a);\n",
              "      a.click();\n",
              "      div.remove();\n",
              "    }\n",
              "  "
            ]
          },
          "metadata": {}
        },
        {
          "output_type": "display_data",
          "data": {
            "text/plain": [
              "<IPython.core.display.Javascript object>"
            ],
            "application/javascript": [
              "download(\"download_ed68b082-1806-474b-a9bf-79ba4d3bcdda\", \"distribution_C2.png\", 63785)"
            ]
          },
          "metadata": {}
        }
      ]
    },
    {
      "cell_type": "code",
      "source": [],
      "metadata": {
        "id": "tLQm-8AUEX6B"
      },
      "execution_count": null,
      "outputs": []
    }
  ]
}