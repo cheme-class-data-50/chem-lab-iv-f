{
  "nbformat": 4,
  "nbformat_minor": 0,
  "metadata": {
    "colab": {
      "provenance": []
    },
    "kernelspec": {
      "name": "python3",
      "display_name": "Python 3"
    },
    "language_info": {
      "name": "python"
    }
  },
  "cells": [
    {
      "cell_type": "code",
      "source": [
        "import numpy as np\n",
        "import matplotlib.pyplot as plt\n",
        "import pandas as pd\n",
        "from scipy.optimize import curve_fit\n",
        "\n",
        "v = np.array([0.0106, ]) # INPUT YOUR DATA IN SI UNITS HERE\n",
        "dp = np.array([436, ]) # INPUT YOUR DATA IN SI UNITS HERE\n",
        "df = pd.DataFrame({\n",
        "    'v0': v,\n",
        "    'delta_P': dp\n",
        "})\n",
        "plt.figure(figsize=(6, 6))\n",
        "plt.scatter(df['v0'], df['delta_P'], color='Tab:blue')\n",
        "plt.xlabel('Superficial velocity of air $v_0$ (m s$^{-1}$)',fontsize=14)\n",
        "plt.ylabel('Pressure drop Δ$P$ (Pa)',fontsize=14)\n",
        "plt.ylim(0, 2500)\n",
        "plt.xlim(0,0.12)"
      ],
      "metadata": {
        "id": "oSoaj7mOp_Rn"
      },
      "execution_count": null,
      "outputs": []
    },
    {
      "cell_type": "code",
      "execution_count": null,
      "metadata": {
        "id": "i92-n9PiGccX"
      },
      "outputs": [],
      "source": [
        "def line_through_origin(x, m):\n",
        "    return m * x\n",
        "\n",
        "def line_with_intercept(x, m, c):\n",
        "    return m * x + c\n",
        "\n",
        "###\n",
        "# DEFINE REGIONS\n",
        "v_thresh = ###\n",
        "dp_thresh = ###\n",
        "###\n",
        "\n",
        "region1 = (v < v_thresh) & (dp < dp_thresh)\n",
        "region2 = (v > v_thresh) & (dp > dp_thresh)\n",
        "\n",
        "v1, dp1 = v[region1], dp[region1]\n",
        "v2, dp2 = v[region2], dp[region2]\n",
        "\n",
        "popt1, pcov1 = curve_fit(line_through_origin, v1, dp1)\n",
        "m1 = popt1[0]\n",
        "dm1 = np.sqrt(np.diag(pcov1))[0]\n",
        "popt2, pcov2 = curve_fit(line_with_intercept, v2, dp2)\n",
        "m2, c2 = popt2\n",
        "dm2, dc2 = np.sqrt(np.diag(pcov2))\n",
        "\n",
        "v_intersect = c2 / (m1 - m2)\n",
        "dp_intersect = m1 * v_intersect\n",
        "\n",
        "fstr1 = f'$m$ = {m1:.1f} ± {dm1:.1f}'\n",
        "fstr2 = f'$m$ = {m2:.1f} ± {dm2:.1f}\\n $b$ = {c2:.1f} ± {dc2:.1f}'\n",
        "\n",
        "v_extended = np.linspace(0, 0.12, 100)\n",
        "line1 = line_through_origin(v_extended, m1)\n",
        "line2 = line_with_intercept(v_extended, m2, c2)\n",
        "\n",
        "def plot_and_save(filename=None):\n",
        "    plt.figure(figsize=(6, 6))\n",
        "    plt.scatter(v, dp, color='Tab:blue', label='Data')\n",
        "    plt.plot(v_extended, line1, color='Tab:orange')\n",
        "    plt.plot(v_extended, line2, color='Tab:purple')\n",
        "    plt.scatter(v_intersect, dp_intersect, color='Tab:red', s=80, label=f'Intersection\\n(v = {v_intersect:.3f}, ΔP = {dp_intersect:.1f})')\n",
        "    plt.axvline(x=v_intersect, color='black', linestyle='--', alpha=0.5)\n",
        "\n",
        "    plt.text(0.03, 800, fstr1, color='Tab:orange', fontsize=12, bbox=dict(facecolor='white', edgecolor='orange', boxstyle='round,pad=0.5'))\n",
        "    plt.text(0.06, 1800, fstr2, color='Tab:purple', fontsize=12, bbox=dict(facecolor='white', edgecolor='purple', boxstyle='round,pad=0.5'))\n",
        "\n",
        "    plt.xlabel('Superficial velocity of air $v$ (m/s)', fontsize=14)\n",
        "    plt.ylabel('Pressure drop Δ$P$ (Pa)', fontsize=14)\n",
        "    plt.ylim(0, 2500)\n",
        "    plt.xlim(0, 0.12)\n",
        "\n",
        "    if filename:\n",
        "        plt.savefig(filename, dpi=300, bbox_inches='tight')\n",
        "    else:\n",
        "        plt.show()\n",
        "\n",
        "plot_and_save()\n",
        "\n",
        "print(f\"Intersection point: v = {v_intersect:.3f}, ΔP = {dp_intersect:.1f}\")\n",
        "print(f\"Region 1 Slope: m = {m1:.1f} ± {dm1:.1f}\")\n",
        "print(f\"Region 2 Slope: m = {m2:.1f} ± {dm2:.1f}, Intercept: b = {c2:.1f} ± {dc2:.1f}\")"
      ]
    },
    {
      "cell_type": "markdown",
      "source": [
        "The intersection point is defined as:\n",
        "\n",
        "$$\n",
        "v_{\\text {intersect }}=\\frac{c_2}{m_1-m_2}\n",
        "$$\n",
        "\n",
        "where:\n",
        "- $c_2$ : intercept of the line in region 2.\n",
        "- $m_1$ : slope of the line in region 1 .\n",
        "- $m_2$ : slope of the line in region 2.\n",
        "\n",
        "The general formula for the uncertainty in a function $f\\left(x_1, x_2, \\ldots\\right)$ is:\n",
        "\n",
        "$$\n",
        "\\sigma_f^2=\\left(\\frac{\\partial f}{\\partial x_1} \\sigma_{x_1}\\right)^2+\\left(\\frac{\\partial f}{\\partial x_2} \\sigma_{x_2}\\right)^2+\\ldots\n",
        "$$\n",
        "\n",
        "\n",
        "For $v_{\\text {intersect }}=\\frac{c_2}{m_1-m_2}$, the partial derivatives are:\n",
        "\n",
        "$$\n",
        "\\begin{aligned}\n",
        "\\frac{\\partial v_{\\text {intersect }}}{\\partial m_1} & =-\\frac{c_2}{\\left(m_1-m_2\\right)^2} \\\\\n",
        "\\frac{\\partial v_{\\text {intersect }}}{\\partial m_2} & =\\frac{c_2}{\\left(m_1-m_2\\right)^2} \\\\\n",
        "\\frac{\\partial v_{\\text {intersect }}}{\\partial c_2} & =\\frac{1}{m_1-m_2}\n",
        "\\end{aligned}\n",
        "$$\n",
        "\n",
        "Using the error propagation formula:\n",
        "\n",
        "$$\n",
        "\\sigma_{v_{\\text {intersect }}^2}^2=\\left(-\\frac{c_2}{\\left(m_1-m_2\\right)^2} \\cdot \\sigma_{m_1}\\right)^2+\\left(\\frac{c_2}{\\left(m_1-m_2\\right)^2} \\cdot \\sigma_{m_2}\\right)^2+\\left(\\frac{1}{m_1-m_2} \\cdot \\sigma_{c_2}\\right)^2\n",
        "$$\n",
        "\n",
        "where:\n",
        "- $\\sigma_{m_1}$ : uncertainty in slope $m_1$ (region 1 ).\n",
        "- $\\sigma_{m_2}$ : uncertainty in slope $m_2$ (region 2 ).\n",
        "- $\\sigma_{c_2}:$ uncertainty in intercept $c_2$ (region 2)."
      ],
      "metadata": {
        "id": "uzz6X-niGT0N"
      }
    },
    {
      "cell_type": "code",
      "source": [
        "dm1 = np.sqrt(np.diag(pcov1))[0]  # Uncertainty in m1\n",
        "dm2, dc2 = np.sqrt(np.diag(pcov2))  # Uncertainties in m2 and c2\n",
        "\n",
        "partial_m1 = -c2 / (m1 - m2)**2\n",
        "partial_m2 = c2 / (m1 - m2)**2\n",
        "partial_c2 = 1 / (m1 - m2)\n",
        "\n",
        "sigma_v_intersect = np.sqrt(\n",
        "    (partial_m1 * dm1)**2 +\n",
        "    (partial_m2 * dm2)**2 +\n",
        "    (partial_c2 * dc2)**2\n",
        ")\n",
        "\n",
        "v_intersect_with_error = f\"{v_intersect:.3f} ± {sigma_v_intersect:.3f}\"\n",
        "\n",
        "print(f\"Velocity at the intersection: v = {v_intersect_with_error}\")"
      ],
      "metadata": {
        "id": "JriYBXJihIbh"
      },
      "execution_count": null,
      "outputs": []
    },
    {
      "cell_type": "code",
      "source": [],
      "metadata": {
        "id": "KiY0z-wUFEuM"
      },
      "execution_count": null,
      "outputs": []
    }
  ]
}